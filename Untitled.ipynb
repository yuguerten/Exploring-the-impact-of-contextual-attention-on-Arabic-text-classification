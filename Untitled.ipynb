{
 "cells": [
  {
   "cell_type": "markdown",
   "id": "1ac322ad-9eeb-4e80-a95d-1dfa3ead7bdb",
   "metadata": {},
   "source": [
    "# Creat the Dataset from txt files"
   ]
  },
  {
   "cell_type": "code",
   "execution_count": 16,
   "id": "84a10d95-e4ba-4ee0-b925-9bcf01ba148e",
   "metadata": {},
   "outputs": [],
   "source": [
    "import os\n",
    "import pandas as pd"
   ]
  },
  {
   "cell_type": "code",
   "execution_count": 17,
   "id": "011ef1c1-d5e9-44e5-ae9c-17152aa5f6fc",
   "metadata": {},
   "outputs": [],
   "source": [
    "def read_txt_file(file_path):\n",
    "    with open(file_path, 'r', encoding='utf-8') as file:\n",
    "        content = file.read()\n",
    "    return content"
   ]
  },
  {
   "cell_type": "code",
   "execution_count": 18,
   "id": "cf206d32-87c9-468d-81d1-be97c4c19f35",
   "metadata": {},
   "outputs": [],
   "source": [
    "base_dir = r'C:\\Users\\yuguerten\\Desktop\\MBDIOT\\Semestre 2\\TM\\mini-project\\bbc-arabic-utf8'\n",
    "dfs = []"
   ]
  },
  {
   "cell_type": "code",
   "execution_count": 19,
   "id": "8532f5fb-b158-4325-a777-d8003f687553",
   "metadata": {},
   "outputs": [
    {
     "name": "stdout",
     "output_type": "stream",
     "text": [
      "['اخبار الشرق الاوسط', 'اخبار العالم', 'اقتصاد و اعمال', 'رياضة', 'عرض الصحف', 'علوم وتكنولوجيا', 'منوعات']\n"
     ]
    }
   ],
   "source": [
    "print(os.listdir(base_dir))"
   ]
  },
  {
   "cell_type": "code",
   "execution_count": 20,
   "id": "f8c646dd-1a29-4ab7-9bd5-102c5d3165d9",
   "metadata": {},
   "outputs": [
    {
     "data": {
      "text/plain": [
       "'C:\\\\Users\\\\yuguerten\\\\Desktop\\\\MBDIOT\\\\Semestre 2\\\\TM\\\\mini-project\\\\bbc-arabic-utf8\\\\اخبار الشرق الاوسط'"
      ]
     },
     "execution_count": 20,
     "metadata": {},
     "output_type": "execute_result"
    }
   ],
   "source": [
    "os.path.join(base_dir, category)"
   ]
  },
  {
   "cell_type": "code",
   "execution_count": 21,
   "id": "fa1670d7-7657-426e-ac7a-c9540bbcb5bc",
   "metadata": {},
   "outputs": [],
   "source": [
    "for category in os.listdir(base_dir):\n",
    "    category_dir = os.path.join(base_dir, category)\n",
    "    if os.path.isdir(category_dir):\n",
    "        # Loop through .txt files in the category directory\n",
    "        for txt_file in os.listdir(category_dir):\n",
    "            if txt_file.endswith('.txt'):\n",
    "                txt_file_path = os.path.join(category_dir, txt_file)\n",
    "                # Read the content of the .txt file\n",
    "                body = read_txt_file(txt_file_path)\n",
    "                # Create a DataFrame for the current .txt file\n",
    "                df = pd.DataFrame({'Body': [body], 'category': [category]})\n",
    "                # Append the DataFrame to the list\n",
    "                dfs.append(df)"
   ]
  },
  {
   "cell_type": "code",
   "execution_count": 25,
   "id": "c805bfb0-28a6-4067-9096-550d7c395645",
   "metadata": {},
   "outputs": [
    {
     "data": {
      "text/html": [
       "<div>\n",
       "<style scoped>\n",
       "    .dataframe tbody tr th:only-of-type {\n",
       "        vertical-align: middle;\n",
       "    }\n",
       "\n",
       "    .dataframe tbody tr th {\n",
       "        vertical-align: top;\n",
       "    }\n",
       "\n",
       "    .dataframe thead th {\n",
       "        text-align: right;\n",
       "    }\n",
       "</style>\n",
       "<table border=\"1\" class=\"dataframe\">\n",
       "  <thead>\n",
       "    <tr style=\"text-align: right;\">\n",
       "      <th></th>\n",
       "      <th>Body</th>\n",
       "      <th>category</th>\n",
       "    </tr>\n",
       "  </thead>\n",
       "  <tbody>\n",
       "    <tr>\n",
       "      <th>0</th>\n",
       "      <td>‭BBC Arabic‬ - ‮الش...</td>\n",
       "      <td>اخبار الشرق الاوسط</td>\n",
       "    </tr>\n",
       "    <tr>\n",
       "      <th>1</th>\n",
       "      <td>‭BBC Arabic‬ - ‮الش...</td>\n",
       "      <td>اخبار الشرق الاوسط</td>\n",
       "    </tr>\n",
       "    <tr>\n",
       "      <th>2</th>\n",
       "      <td>‭BBC Arabic‬ - ‮الش...</td>\n",
       "      <td>اخبار الشرق الاوسط</td>\n",
       "    </tr>\n",
       "    <tr>\n",
       "      <th>3</th>\n",
       "      <td>‭BBC Arabic‬ - ‮الش...</td>\n",
       "      <td>اخبار الشرق الاوسط</td>\n",
       "    </tr>\n",
       "    <tr>\n",
       "      <th>4</th>\n",
       "      <td>‭BBC Arabic‬ - ‮الش...</td>\n",
       "      <td>اخبار الشرق الاوسط</td>\n",
       "    </tr>\n",
       "    <tr>\n",
       "      <th>...</th>\n",
       "      <td>...</td>\n",
       "      <td>...</td>\n",
       "    </tr>\n",
       "    <tr>\n",
       "      <th>4758</th>\n",
       "      <td>‭BBC Arabic‬ - ‮منو...</td>\n",
       "      <td>منوعات</td>\n",
       "    </tr>\n",
       "    <tr>\n",
       "      <th>4759</th>\n",
       "      <td>‭BBC Arabic‬ - ‮منو...</td>\n",
       "      <td>منوعات</td>\n",
       "    </tr>\n",
       "    <tr>\n",
       "      <th>4760</th>\n",
       "      <td>‭BBC Arabic‬ - ‮منو...</td>\n",
       "      <td>منوعات</td>\n",
       "    </tr>\n",
       "    <tr>\n",
       "      <th>4761</th>\n",
       "      <td>‭BBC Arabic‬ - ‮...</td>\n",
       "      <td>منوعات</td>\n",
       "    </tr>\n",
       "    <tr>\n",
       "      <th>4762</th>\n",
       "      <td>‭BBC Arabic‬ - ‮...</td>\n",
       "      <td>منوعات</td>\n",
       "    </tr>\n",
       "  </tbody>\n",
       "</table>\n",
       "<p>4763 rows × 2 columns</p>\n",
       "</div>"
      ],
      "text/plain": [
       "                                                   Body            category\n",
       "0                                ‭BBC Arabic‬ - ‮الش...  اخبار الشرق الاوسط\n",
       "1                                ‭BBC Arabic‬ - ‮الش...  اخبار الشرق الاوسط\n",
       "2                                ‭BBC Arabic‬ - ‮الش...  اخبار الشرق الاوسط\n",
       "3                                ‭BBC Arabic‬ - ‮الش...  اخبار الشرق الاوسط\n",
       "4                                ‭BBC Arabic‬ - ‮الش...  اخبار الشرق الاوسط\n",
       "...                                                 ...                 ...\n",
       "4758                             ‭BBC Arabic‬ - ‮منو...              منوعات\n",
       "4759                             ‭BBC Arabic‬ - ‮منو...              منوعات\n",
       "4760                             ‭BBC Arabic‬ - ‮منو...              منوعات\n",
       "4761                                ‭BBC Arabic‬ - ‮...              منوعات\n",
       "4762                                ‭BBC Arabic‬ - ‮...              منوعات\n",
       "\n",
       "[4763 rows x 2 columns]"
      ]
     },
     "execution_count": 25,
     "metadata": {},
     "output_type": "execute_result"
    }
   ],
   "source": [
    "df = pd.concat(dfs, ignore_index=True)\n",
    "df"
   ]
  },
  {
   "cell_type": "code",
   "execution_count": 26,
   "id": "5c73ad7e-eb95-4ec7-9f2f-2b69ce0d2979",
   "metadata": {},
   "outputs": [
    {
     "data": {
      "text/plain": [
       "'                           \\u202dBBC Arabic\\u202c - \\u202eالشرق الأوسط\\u202c - \\u202eسؤال وجواب: ماذا حدث بعد الانتخابات الايرانية؟\\u202c                          content=\"اجابات عن اسئلة مطروحة عن الازمة التي نشأت عقب انتخابات الرئاسة في ايران.\" />                           الرئيسية          الشرق الأوسط   \\t\\t  العالم   \\t\\t  شارك برأيك   \\t\\t  اقتصاد وأعمال   \\t\\t  منوعات  \\t \\t\\t  علوم وتكنولوجيا   \\t\\t  رياضة   \\t\\t  راديو وتلفزيون                  سؤال وجواب: ماذا حدث بعد الانتخابات الايرانية؟                طرح الكثير من التساؤلات غداة ظهور نتائج الانتخابات الرئاسية الايرانية التي أججت مظاهرات واسعة واعمال عنف بين المحتجين على النتائج ورجال الامن. هنا بعضها:                 ما هي أوجه اعتراض معارضي أحمدي نجاد؟                 يقول معارضو الرئيس الإيراني إن الطريقة التي اعلنت بها النتائج كانت مثيرة للاستغراب. ففي كل الانتخابات السابقة، تم فرز الاصوات واعلان النتائج اقليما باقليم، لكن هذه المرة جاءت النتائج دفعات بملايين الاصوات كل مرة ونسب المرشحين فيها. كما لم تتغير نسب المرشحين في تلك المجموعات من الاصوات.  وان صحت تلك النتائج، يعني ذلك ان الرئيس محمود احمدي نجاد حقق نفس النتائج الايجابية في المناطق القروية والحضرية على حد سواء، كما يعني ان المرشحين الآخرين حصلوا على نفس النتائج الهزيلة في مناطقهم واقاليمهم.  ومن المعلوم ان احمدي نجاد ذو شعبية كبيرة في المناطق القروية لكن شعبيته متدنية للغاية في المدن.  كما يعرف ان المناطق التي تعيش فيها الكثير من الاقليات عادة ما تصوت لصالح المرشحين المعارضين للنظام وان أي مرشح غالبا ما يفوز في مسقط رأسه.  لكن المرة اختلف كثيرا هذه المرة. ولم تعط السلطات جوابا لاي من هذه التساؤلات التي رددها أنصار المرشح مير حسين موسوي.  صحيح ان الامر يثير الارتياب بحسب آراء محليين، لكن لا يعني بالضرورة ان الانتخابات شهدت عملية تزوير كبيرة.                 ما مدى تنظيم المعارضين لاحمدي نجاد؟                 المرشح الاصلاحي الخاسر في الانتخابات، مير حسين موسوي، ليس له منظمة تذكر. فقبل الترشح للانتخابات كان في تقاعد نسبي لمدة عشرين عاما. ورغم ان المنظمات الاصلاحية الثلاث في ايران اعلنت دعمها له في هذه الانتخابات، فهو لا يتزعمها. لكن هذه المنظمات التي تحظى بدعم وتنظيم محترمين تشكل نوعا من المعارضة المنظمة. وهي تحظى بشعبية كبيرة لدى طلاب الجامعات، وبامكانها تعبئة الآلاف باستخدام الانترنت ووسائل اخرى.  من المتوقع ان تستمر الاحتجاجات، فالاصلاحيون اصدروا بيانا يقولون فيه ان ما حدث في الانتخابات هو انقلاب.                 هل يحظى احمدي نجاد بدعم المرشد الاعلى للثورة المطلق؟                 لا يمكن سبر خبايا السياسة الايرانية، لكن حسب ما يظهر منها فان احمدي نجاد يحظى بدعم آية الله خامنئي الكامل. فقبل الانتخابات، عبر خامنئي عن دعمه له عدة مرات، قائلا انه افضل رئيس عرفته البلاد منذ الثورة، وان سياسته الخارجية صحيحة.  لم يحدث شيء يدل على تغير هذا الرأي، لا خلال الحملة الانتخابية ولا بعد اعلان النتائج، بل سارع خامنئي الى الترحيب بالنتائج، ولو انه دعا لاحقا مجلس الخبراء للنظر في مزاعم التزوير.                 هل تهدد الازمة منصب المرشد الاعلى او سمعته؟                 مصداقية خامنئي قد تكون على المحك، فقد تساءل رجل دين بارز ومحترم، وهو محسن كاديفار، عما جعل خامنئي يرحب بالنتائج فورا، حتى قبل ان يصدق عليها مجلس الخبراء رسميا.  كما سبق وتعرض خامنئي للانتقاد لقربه من احمدي نجاد، فينبغي على المرشد الاعلى للثورة ان يبقى فوق السياسة والحزبية.                 وماذا بعد؟ هل يمكن تهدئة الوضع؟                 أمام مجلس الخبراء عشرة ايام للتصديق على نتائج الانتخابات او رفضها والدعوة الى اجراء غيرها، وقد طلب من المرشحين الخاسرين توفير ادلة على حصول تزوير كما يدعون.  لكن ذلك قد يكون ضربة قاضية للرئيس والمرشد الاعلى، كما قد يسبب فوضى عارمة في البلاد، وبالتالي فالاحتمال الثاني ضعيف جدا.  ومن جهة اخرى، يصعب تصور ان المظاهرات ستهدأ لوحدها، بل اغلب الظن انها ستزداد حماسا خاصة بسبب الاجراءات الامنية المشددة ورد فعل السلطات الامنية.  يعتبر المرشد الاعلى للثورة في ايران فوق القانون، وقد يصدر قرارا يكون حلا وسطا لهذه الازمة بدعوى ان البلاد او الدين في خطر.  للختام، المجتمع الايراني منقسم جدا سواء سياسيا او اقتصاديا، واغلب الظن ان هذا النوع من الاحتجاجات كان ليحدث مهما كانت نتائج الانتخابات.                           '"
      ]
     },
     "execution_count": 26,
     "metadata": {},
     "output_type": "execute_result"
    }
   ],
   "source": [
    "df['Body'][0]"
   ]
  },
  {
   "cell_type": "code",
   "execution_count": null,
   "id": "1f77b6b8-5e9e-4b5a-9437-9eb02e29314a",
   "metadata": {},
   "outputs": [],
   "source": []
  }
 ],
 "metadata": {
  "kernelspec": {
   "display_name": "Python 3 (ipykernel)",
   "language": "python",
   "name": "python3"
  },
  "language_info": {
   "codemirror_mode": {
    "name": "ipython",
    "version": 3
   },
   "file_extension": ".py",
   "mimetype": "text/x-python",
   "name": "python",
   "nbconvert_exporter": "python",
   "pygments_lexer": "ipython3",
   "version": "3.11.5"
  }
 },
 "nbformat": 4,
 "nbformat_minor": 5
}
